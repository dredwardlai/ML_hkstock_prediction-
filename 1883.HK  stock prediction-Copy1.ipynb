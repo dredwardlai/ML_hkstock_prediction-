{
 "cells": [
  {
   "cell_type": "code",
   "execution_count": 51,
   "id": "65d22b94",
   "metadata": {
    "scrolled": true
   },
   "outputs": [
    {
     "name": "stdout",
     "output_type": "stream",
     "text": [
      "Requirement already satisfied: pandas-datareader in /Users/dr.edward/opt/anaconda3/lib/python3.9/site-packages (0.10.0)\n",
      "Requirement already satisfied: pandas>=0.23 in /Users/dr.edward/opt/anaconda3/lib/python3.9/site-packages (from pandas-datareader) (1.4.2)\n",
      "Requirement already satisfied: requests>=2.19.0 in /Users/dr.edward/opt/anaconda3/lib/python3.9/site-packages (from pandas-datareader) (2.27.1)\n",
      "Requirement already satisfied: lxml in /Users/dr.edward/opt/anaconda3/lib/python3.9/site-packages (from pandas-datareader) (4.8.0)\n",
      "Requirement already satisfied: python-dateutil>=2.8.1 in /Users/dr.edward/opt/anaconda3/lib/python3.9/site-packages (from pandas>=0.23->pandas-datareader) (2.8.2)\n",
      "Requirement already satisfied: pytz>=2020.1 in /Users/dr.edward/opt/anaconda3/lib/python3.9/site-packages (from pandas>=0.23->pandas-datareader) (2021.3)\n",
      "Requirement already satisfied: numpy>=1.18.5 in /Users/dr.edward/opt/anaconda3/lib/python3.9/site-packages (from pandas>=0.23->pandas-datareader) (1.21.5)\n",
      "Requirement already satisfied: six>=1.5 in /Users/dr.edward/opt/anaconda3/lib/python3.9/site-packages (from python-dateutil>=2.8.1->pandas>=0.23->pandas-datareader) (1.16.0)\n",
      "Requirement already satisfied: certifi>=2017.4.17 in /Users/dr.edward/opt/anaconda3/lib/python3.9/site-packages (from requests>=2.19.0->pandas-datareader) (2021.10.8)\n",
      "Requirement already satisfied: idna<4,>=2.5 in /Users/dr.edward/opt/anaconda3/lib/python3.9/site-packages (from requests>=2.19.0->pandas-datareader) (3.3)\n",
      "Requirement already satisfied: charset-normalizer~=2.0.0 in /Users/dr.edward/opt/anaconda3/lib/python3.9/site-packages (from requests>=2.19.0->pandas-datareader) (2.0.4)\n",
      "Requirement already satisfied: urllib3<1.27,>=1.21.1 in /Users/dr.edward/opt/anaconda3/lib/python3.9/site-packages (from requests>=2.19.0->pandas-datareader) (1.26.9)\n",
      "Requirement already satisfied: tensorflow in /Users/dr.edward/opt/anaconda3/lib/python3.9/site-packages (2.11.0)\n",
      "Requirement already satisfied: wrapt>=1.11.0 in /Users/dr.edward/opt/anaconda3/lib/python3.9/site-packages (from tensorflow) (1.12.1)\n",
      "Requirement already satisfied: absl-py>=1.0.0 in /Users/dr.edward/opt/anaconda3/lib/python3.9/site-packages (from tensorflow) (1.3.0)\n",
      "Requirement already satisfied: tensorflow-estimator<2.12,>=2.11.0 in /Users/dr.edward/opt/anaconda3/lib/python3.9/site-packages (from tensorflow) (2.11.0)\n",
      "Requirement already satisfied: grpcio<2.0,>=1.24.3 in /Users/dr.edward/opt/anaconda3/lib/python3.9/site-packages (from tensorflow) (1.42.0)\n",
      "Requirement already satisfied: opt-einsum>=2.3.2 in /Users/dr.edward/opt/anaconda3/lib/python3.9/site-packages (from tensorflow) (3.3.0)\n",
      "Requirement already satisfied: typing-extensions>=3.6.6 in /Users/dr.edward/opt/anaconda3/lib/python3.9/site-packages (from tensorflow) (4.1.1)\n",
      "Requirement already satisfied: packaging in /Users/dr.edward/opt/anaconda3/lib/python3.9/site-packages (from tensorflow) (21.3)\n",
      "Requirement already satisfied: tensorflow-io-gcs-filesystem>=0.23.1 in /Users/dr.edward/opt/anaconda3/lib/python3.9/site-packages (from tensorflow) (0.28.0)\n",
      "Requirement already satisfied: setuptools in /Users/dr.edward/opt/anaconda3/lib/python3.9/site-packages (from tensorflow) (61.2.0)\n",
      "Requirement already satisfied: keras<2.12,>=2.11.0 in /Users/dr.edward/opt/anaconda3/lib/python3.9/site-packages (from tensorflow) (2.11.0)\n",
      "Requirement already satisfied: astunparse>=1.6.0 in /Users/dr.edward/opt/anaconda3/lib/python3.9/site-packages (from tensorflow) (1.6.3)\n",
      "Requirement already satisfied: gast<=0.4.0,>=0.2.1 in /Users/dr.edward/opt/anaconda3/lib/python3.9/site-packages (from tensorflow) (0.4.0)\n",
      "Requirement already satisfied: flatbuffers>=2.0 in /Users/dr.edward/opt/anaconda3/lib/python3.9/site-packages (from tensorflow) (22.11.23)\n",
      "Requirement already satisfied: numpy>=1.20 in /Users/dr.edward/opt/anaconda3/lib/python3.9/site-packages (from tensorflow) (1.21.5)\n",
      "Requirement already satisfied: tensorboard<2.12,>=2.11 in /Users/dr.edward/opt/anaconda3/lib/python3.9/site-packages (from tensorflow) (2.11.0)\n",
      "Requirement already satisfied: libclang>=13.0.0 in /Users/dr.edward/opt/anaconda3/lib/python3.9/site-packages (from tensorflow) (14.0.6)\n",
      "Requirement already satisfied: six>=1.12.0 in /Users/dr.edward/opt/anaconda3/lib/python3.9/site-packages (from tensorflow) (1.16.0)\n",
      "Requirement already satisfied: google-pasta>=0.1.1 in /Users/dr.edward/opt/anaconda3/lib/python3.9/site-packages (from tensorflow) (0.2.0)\n",
      "Requirement already satisfied: h5py>=2.9.0 in /Users/dr.edward/opt/anaconda3/lib/python3.9/site-packages (from tensorflow) (3.6.0)\n",
      "Requirement already satisfied: protobuf<3.20,>=3.9.2 in /Users/dr.edward/opt/anaconda3/lib/python3.9/site-packages (from tensorflow) (3.19.1)\n",
      "Requirement already satisfied: termcolor>=1.1.0 in /Users/dr.edward/opt/anaconda3/lib/python3.9/site-packages (from tensorflow) (2.1.1)\n",
      "Requirement already satisfied: wheel<1.0,>=0.23.0 in /Users/dr.edward/opt/anaconda3/lib/python3.9/site-packages (from astunparse>=1.6.0->tensorflow) (0.37.1)\n",
      "Requirement already satisfied: google-auth<3,>=1.6.3 in /Users/dr.edward/opt/anaconda3/lib/python3.9/site-packages (from tensorboard<2.12,>=2.11->tensorflow) (1.33.0)\n",
      "Requirement already satisfied: requests<3,>=2.21.0 in /Users/dr.edward/opt/anaconda3/lib/python3.9/site-packages (from tensorboard<2.12,>=2.11->tensorflow) (2.27.1)\n",
      "Requirement already satisfied: tensorboard-data-server<0.7.0,>=0.6.0 in /Users/dr.edward/opt/anaconda3/lib/python3.9/site-packages (from tensorboard<2.12,>=2.11->tensorflow) (0.6.1)\n",
      "Requirement already satisfied: tensorboard-plugin-wit>=1.6.0 in /Users/dr.edward/opt/anaconda3/lib/python3.9/site-packages (from tensorboard<2.12,>=2.11->tensorflow) (1.8.1)\n",
      "Requirement already satisfied: markdown>=2.6.8 in /Users/dr.edward/opt/anaconda3/lib/python3.9/site-packages (from tensorboard<2.12,>=2.11->tensorflow) (3.3.4)\n",
      "Requirement already satisfied: google-auth-oauthlib<0.5,>=0.4.1 in /Users/dr.edward/opt/anaconda3/lib/python3.9/site-packages (from tensorboard<2.12,>=2.11->tensorflow) (0.4.6)\n",
      "Requirement already satisfied: werkzeug>=1.0.1 in /Users/dr.edward/opt/anaconda3/lib/python3.9/site-packages (from tensorboard<2.12,>=2.11->tensorflow) (2.0.3)\n",
      "Requirement already satisfied: rsa<5,>=3.1.4 in /Users/dr.edward/opt/anaconda3/lib/python3.9/site-packages (from google-auth<3,>=1.6.3->tensorboard<2.12,>=2.11->tensorflow) (4.7.2)\n",
      "Requirement already satisfied: pyasn1-modules>=0.2.1 in /Users/dr.edward/opt/anaconda3/lib/python3.9/site-packages (from google-auth<3,>=1.6.3->tensorboard<2.12,>=2.11->tensorflow) (0.2.8)\n",
      "Requirement already satisfied: cachetools<5.0,>=2.0.0 in /Users/dr.edward/opt/anaconda3/lib/python3.9/site-packages (from google-auth<3,>=1.6.3->tensorboard<2.12,>=2.11->tensorflow) (4.2.2)\n",
      "Requirement already satisfied: requests-oauthlib>=0.7.0 in /Users/dr.edward/opt/anaconda3/lib/python3.9/site-packages (from google-auth-oauthlib<0.5,>=0.4.1->tensorboard<2.12,>=2.11->tensorflow) (1.3.1)\n",
      "Requirement already satisfied: pyasn1<0.5.0,>=0.4.6 in /Users/dr.edward/opt/anaconda3/lib/python3.9/site-packages (from pyasn1-modules>=0.2.1->google-auth<3,>=1.6.3->tensorboard<2.12,>=2.11->tensorflow) (0.4.8)\n",
      "Requirement already satisfied: charset-normalizer~=2.0.0 in /Users/dr.edward/opt/anaconda3/lib/python3.9/site-packages (from requests<3,>=2.21.0->tensorboard<2.12,>=2.11->tensorflow) (2.0.4)\n",
      "Requirement already satisfied: certifi>=2017.4.17 in /Users/dr.edward/opt/anaconda3/lib/python3.9/site-packages (from requests<3,>=2.21.0->tensorboard<2.12,>=2.11->tensorflow) (2021.10.8)\n",
      "Requirement already satisfied: urllib3<1.27,>=1.21.1 in /Users/dr.edward/opt/anaconda3/lib/python3.9/site-packages (from requests<3,>=2.21.0->tensorboard<2.12,>=2.11->tensorflow) (1.26.9)\n",
      "Requirement already satisfied: idna<4,>=2.5 in /Users/dr.edward/opt/anaconda3/lib/python3.9/site-packages (from requests<3,>=2.21.0->tensorboard<2.12,>=2.11->tensorflow) (3.3)\n",
      "Requirement already satisfied: oauthlib>=3.0.0 in /Users/dr.edward/opt/anaconda3/lib/python3.9/site-packages (from requests-oauthlib>=0.7.0->google-auth-oauthlib<0.5,>=0.4.1->tensorboard<2.12,>=2.11->tensorflow) (3.2.2)\n",
      "Requirement already satisfied: pyparsing!=3.0.5,>=2.0.2 in /Users/dr.edward/opt/anaconda3/lib/python3.9/site-packages (from packaging->tensorflow) (3.0.4)\n"
     ]
    }
   ],
   "source": [
    "!pip install pandas-datareader\n",
    "!pip install tensorflow\n",
    "import math\n",
    "import pandas as pd\n",
    "pd.core.common.is_list_like = pd.api.types.is_list_like\n",
    "import pandas_datareader as web\n",
    "import numpy as np\n",
    "import datetime as dt\n",
    "import pandas_datareader as web\n",
    "import matplotlib.pyplot as plt\n",
    "from sklearn.preprocessing import MinMaxScaler\n",
    "from tensorflow.keras.models import Sequential\n",
    "from tensorflow.keras.layers import Dense, Dropout, LSTM\n",
    "from tensorflow.keras.layers import Dense, Dropout, LSTM"
   ]
  },
  {
   "cell_type": "code",
   "execution_count": 52,
   "id": "bb42fb22",
   "metadata": {},
   "outputs": [],
   "source": [
    "start= dt.datetime(2009,5,1)\n",
    "end = dt.datetime(2022,5,31)\n",
    "company= '1883.HK'\n",
    "data = web.DataReader(company,'yahoo',start,end)"
   ]
  },
  {
   "cell_type": "code",
   "execution_count": 81,
   "id": "a8acf19d",
   "metadata": {},
   "outputs": [
    {
     "data": {
      "text/plain": [
       "(3229, 6)"
      ]
     },
     "execution_count": 81,
     "metadata": {},
     "output_type": "execute_result"
    }
   ],
   "source": [
    "data.shape"
   ]
  },
  {
   "cell_type": "code",
   "execution_count": 53,
   "id": "b20adde6",
   "metadata": {},
   "outputs": [],
   "source": [
    "scaler = MinMaxScaler(feature_range=(0,1))\n",
    "scaled_data = scaler.fit_transform(data['Close'].values.reshape(-1,1))\n"
   ]
  },
  {
   "cell_type": "code",
   "execution_count": 54,
   "id": "2b468782",
   "metadata": {},
   "outputs": [],
   "source": [
    "prediction_days =60"
   ]
  },
  {
   "cell_type": "code",
   "execution_count": 55,
   "id": "994472ce",
   "metadata": {},
   "outputs": [],
   "source": [
    "x_train = []\n",
    "y_train=[]"
   ]
  },
  {
   "cell_type": "code",
   "execution_count": 56,
   "id": "4304e5aa",
   "metadata": {},
   "outputs": [],
   "source": [
    "for x in range (prediction_days, len(scaled_data)):\n",
    "    x_train.append(scaled_data[x-prediction_days:x,0])\n",
    "    y_train.append(scaled_data[x,0])"
   ]
  },
  {
   "cell_type": "code",
   "execution_count": 57,
   "id": "26b40157",
   "metadata": {},
   "outputs": [],
   "source": [
    "x_train, y_train =np.array(x_train), np.array(y_train)\n",
    "x_train = np.reshape(x_train, (x_train.shape[0], x_train.shape[1],1))"
   ]
  },
  {
   "cell_type": "code",
   "execution_count": 58,
   "id": "4d153ab7",
   "metadata": {},
   "outputs": [],
   "source": [
    "model = Sequential()\n",
    "model.add(LSTM(units=50, return_sequences=True, input_shape = (x_train.shape[1],1)))\n",
    "model.add(Dropout(0.2))\n",
    "model.add(LSTM(units=50, return_sequences=True))\n",
    "model.add(Dropout(0.2))\n",
    "model.add(LSTM(units=50))\n",
    "model.add(Dropout(0.2))\n",
    "model.add(Dense(units=1))\n"
   ]
  },
  {
   "cell_type": "code",
   "execution_count": 59,
   "id": "1b6ddf18",
   "metadata": {},
   "outputs": [],
   "source": [
    "model.compile(optimizer='adam', loss= 'mean_squared_error')"
   ]
  },
  {
   "cell_type": "code",
   "execution_count": 84,
   "id": "b3695e85",
   "metadata": {},
   "outputs": [
    {
     "name": "stdout",
     "output_type": "stream",
     "text": [
      "Epoch 1/25\n",
      "100/100 [==============================] - 4s 38ms/step - loss: 8.5580e-04\n",
      "Epoch 2/25\n",
      "100/100 [==============================] - 4s 37ms/step - loss: 8.5789e-04\n",
      "Epoch 3/25\n",
      "100/100 [==============================] - 4s 36ms/step - loss: 0.0011\n",
      "Epoch 4/25\n",
      "100/100 [==============================] - 4s 37ms/step - loss: 7.7243e-04\n",
      "Epoch 5/25\n",
      "100/100 [==============================] - 4s 38ms/step - loss: 7.7794e-04\n",
      "Epoch 6/25\n",
      "100/100 [==============================] - 4s 38ms/step - loss: 7.7819e-04\n",
      "Epoch 7/25\n",
      "100/100 [==============================] - 4s 38ms/step - loss: 6.8490e-04\n",
      "Epoch 8/25\n",
      "100/100 [==============================] - 4s 37ms/step - loss: 7.5650e-04\n",
      "Epoch 9/25\n",
      "100/100 [==============================] - 4s 37ms/step - loss: 7.1624e-04\n",
      "Epoch 10/25\n",
      "100/100 [==============================] - 4s 37ms/step - loss: 6.5971e-04\n",
      "Epoch 11/25\n",
      "100/100 [==============================] - 4s 39ms/step - loss: 7.6823e-04\n",
      "Epoch 12/25\n",
      "100/100 [==============================] - 4s 38ms/step - loss: 6.9801e-04\n",
      "Epoch 13/25\n",
      "100/100 [==============================] - 4s 37ms/step - loss: 6.9626e-04\n",
      "Epoch 14/25\n",
      "100/100 [==============================] - 4s 38ms/step - loss: 6.7678e-04\n",
      "Epoch 15/25\n",
      "100/100 [==============================] - 4s 38ms/step - loss: 6.3724e-04\n",
      "Epoch 16/25\n",
      "100/100 [==============================] - 4s 38ms/step - loss: 6.5048e-04\n",
      "Epoch 17/25\n",
      "100/100 [==============================] - 4s 38ms/step - loss: 6.3753e-04\n",
      "Epoch 18/25\n",
      "100/100 [==============================] - 4s 38ms/step - loss: 8.6598e-04\n",
      "Epoch 19/25\n",
      "100/100 [==============================] - 4s 38ms/step - loss: 6.0440e-04\n",
      "Epoch 20/25\n",
      "100/100 [==============================] - 4s 37ms/step - loss: 6.3407e-04\n",
      "Epoch 21/25\n",
      "100/100 [==============================] - 4s 37ms/step - loss: 6.6296e-04\n",
      "Epoch 22/25\n",
      "100/100 [==============================] - 4s 37ms/step - loss: 5.9554e-04\n",
      "Epoch 23/25\n",
      "100/100 [==============================] - 4s 37ms/step - loss: 5.7625e-04\n",
      "Epoch 24/25\n",
      "100/100 [==============================] - 4s 37ms/step - loss: 5.8520e-04\n",
      "Epoch 25/25\n",
      "100/100 [==============================] - 4s 37ms/step - loss: 5.9089e-04\n"
     ]
    },
    {
     "data": {
      "text/plain": [
       "<keras.callbacks.History at 0x7fa86b5c8880>"
      ]
     },
     "execution_count": 84,
     "metadata": {},
     "output_type": "execute_result"
    }
   ],
   "source": [
    "model.fit(x_train, y_train, epochs=25 , batch_size=32)"
   ]
  },
  {
   "cell_type": "code",
   "execution_count": 76,
   "id": "f5553e81",
   "metadata": {},
   "outputs": [],
   "source": [
    "test_start = dt.datetime(2009,5,1)\n",
    "test_end = dt.datetime(2022,5,31)"
   ]
  },
  {
   "cell_type": "code",
   "execution_count": 62,
   "id": "a5083fb5",
   "metadata": {},
   "outputs": [],
   "source": [
    "test_data = web.DataReader(company, 'yahoo', test_start, test_end)"
   ]
  },
  {
   "cell_type": "code",
   "execution_count": 63,
   "id": "40602fdc",
   "metadata": {},
   "outputs": [],
   "source": [
    "actual_prices= test_data['Close'].values"
   ]
  },
  {
   "cell_type": "code",
   "execution_count": 64,
   "id": "ac62ff2d",
   "metadata": {},
   "outputs": [],
   "source": [
    "total_dataset =pd.concat((data['Close'], test_data['Close']), axis=0)"
   ]
  },
  {
   "cell_type": "code",
   "execution_count": 65,
   "id": "fef064ce",
   "metadata": {},
   "outputs": [],
   "source": [
    "model_inputs = total_dataset[len(total_dataset) - len(test_data) - prediction_days:].values"
   ]
  },
  {
   "cell_type": "code",
   "execution_count": 66,
   "id": "89d1f128",
   "metadata": {},
   "outputs": [],
   "source": [
    "model_inputs= model_inputs.reshape(-1,1)"
   ]
  },
  {
   "cell_type": "code",
   "execution_count": 67,
   "id": "d7754f9a",
   "metadata": {},
   "outputs": [],
   "source": [
    "model_inputs= scaler.transform(model_inputs)"
   ]
  },
  {
   "cell_type": "code",
   "execution_count": 68,
   "id": "e8482262",
   "metadata": {},
   "outputs": [],
   "source": [
    "x_test =[]\n",
    "\n",
    "for x in range(prediction_days, len(model_inputs)):\n",
    "    x_test.append(model_inputs[x-prediction_days:x, 0])"
   ]
  },
  {
   "cell_type": "code",
   "execution_count": 69,
   "id": "8dfa6970",
   "metadata": {},
   "outputs": [],
   "source": [
    "x_test =np.array(x_test)\n",
    "x_test =np.reshape(x_test, (x_test.shape[0], x_test.shape[1],1) )"
   ]
  },
  {
   "cell_type": "code",
   "execution_count": 70,
   "id": "f84ed5a1",
   "metadata": {},
   "outputs": [
    {
     "name": "stdout",
     "output_type": "stream",
     "text": [
      "23/23 [==============================] - 1s 12ms/step\n"
     ]
    }
   ],
   "source": [
    "predicted_prices = model.predict(x_test)\n",
    "predicted_prices = scaler.inverse_transform(predicted_prices)"
   ]
  },
  {
   "cell_type": "code",
   "execution_count": 71,
   "id": "72c648e2",
   "metadata": {},
   "outputs": [
    {
     "data": {
      "image/png": "[encoded data removed]",
      "text/plain": [
       "<Figure size 432x288 with 1 Axes>"
      ]
     },
     "metadata": {
      "needs_background": "light"
     },
     "output_type": "display_data"
    }
   ],
   "source": [
    "plt.plot(actual_prices, color=\"black\", label=f\"Actual{company}Price\")\n",
    "plt.plot(predicted_prices, color=\"green\",label=f\"Predicted{company}Price\")\n",
    "plt.title(f\"{company}Share Price\")\n",
    "plt.xlabel('Time')\n",
    "plt.ylabel(f'{company}Share Price')\n",
    "plt.legend()\n",
    "plt.show()\n",
    "\n",
    "\n"
   ]
  },
  {
   "cell_type": "code",
   "execution_count": 72,
   "id": "26b0172b",
   "metadata": {},
   "outputs": [],
   "source": [
    "real_data = [ model_inputs[len(model_inputs) + 5 - prediction_days:len(model_inputs + 5 ),0]]"
   ]
  },
  {
   "cell_type": "code",
   "execution_count": 73,
   "id": "8338815c",
   "metadata": {},
   "outputs": [],
   "source": [
    "real_data = np.array(real_data)             \n",
    "            "
   ]
  },
  {
   "cell_type": "code",
   "execution_count": 74,
   "id": "7535032b",
   "metadata": {},
   "outputs": [],
   "source": [
    "real_data = np.reshape(real_data, (real_data.shape[0], real_data.shape[1],1)) "
   ]
  },
  {
   "cell_type": "code",
   "execution_count": 75,
   "id": "4c3a4de0",
   "metadata": {},
   "outputs": [
    {
     "name": "stdout",
     "output_type": "stream",
     "text": [
      "1/1 [==============================] - 1s 772ms/step\n",
      "Prediction: [[2.5385175]]\n"
     ]
    }
   ],
   "source": [
    "\n",
    "#2022/11/28 trial\n",
    "prediction = model.predict(real_data)\n",
    "prediction =scaler.inverse_transform(prediction)\n",
    "print(f\"Prediction: {prediction}\")"
   ]
  }
 ],
 "metadata": {
  "kernelspec": {
   "display_name": "Python 3 (ipykernel)",
   "language": "python",
   "name": "python3"
  },
  "language_info": {
   "codemirror_mode": {
    "name": "ipython",
    "version": 3
   },
   "file_extension": ".py",
   "mimetype": "text/x-python",
   "name": "python",
   "nbconvert_exporter": "python",
   "pygments_lexer": "ipython3",
   "version": "3.9.12"
  }
 },
 "nbformat": 4,
 "nbformat_minor": 5
}
